{
 "cells": [
  {
   "cell_type": "markdown",
   "metadata": {},
   "source": [
    "# Question 1"
   ]
  },
  {
   "cell_type": "markdown",
   "metadata": {},
   "source": [
    "\n",
    "### What data type is each of the following?\n",
    "\n",
    "|Value          |  Data type      |\n",
    "|----------------|--------------------|\n",
    "| 5                |  integer           |\n",
    "|                   |                        |\n",
    "|5.0              |  float               |\n",
    "|                   |                        |\n",
    "|5 > 1           |  boolean         |\n",
    "|                   |                        | \n",
    "|'5'                |  string             |\n",
    "|                   |                        |\n",
    "|5 * 2            |  integer           |\n",
    "|                   |                        |\n",
    "|'5' * 2          |   string             |\n",
    "|                   |                         |\n",
    "|'5' + '2'        |   string             |\n",
    "|                   |                         |\n",
    "|5 / 2            |   float               |\n",
    "|                   |                         |\n",
    "|5 // 2           |  integer            |\n",
    "|                   |                         |\n",
    "|[5, 2, 1]       |  list                  |\n",
    "|                   |                         |\n",
    "|5 in [1, 4, 6]| boolean           |  \n",
    "|                   |                         |\n",
    "|math.pi       |  float                |\n",
    "\n",
    "use 'type' to identify the type of the above characters!( Ex:   >>>type(5))\n"
   ]
  },
  {
   "cell_type": "markdown",
   "metadata": {},
   "source": [
    "# Question 2\n",
    "### Write (and evaluate) Python expressions that answer these questions:"
   ]
  },
  {
   "cell_type": "markdown",
   "metadata": {},
   "source": [
    "### a. How many letters are there in 'Supercalifragilisticexpialidocious'?"
   ]
  },
  {
   "cell_type": "code",
   "execution_count": 10,
   "metadata": {},
   "outputs": [
    {
     "data": {
      "text/plain": [
       "34"
      ]
     },
     "execution_count": 10,
     "metadata": {},
     "output_type": "execute_result"
    }
   ],
   "source": [
    "\n",
    "len(\"Supercalifragilisticexpialidocious\")\n"
   ]
  },
  {
   "cell_type": "markdown",
   "metadata": {},
   "source": [
    "### b. Does 'Supercalifragilisticexpialidocious' contain 'ice' as a substring?"
   ]
  },
  {
   "cell_type": "code",
   "execution_count": 11,
   "metadata": {},
   "outputs": [
    {
     "data": {
      "text/plain": [
       "True"
      ]
     },
     "execution_count": 11,
     "metadata": {},
     "output_type": "execute_result"
    }
   ],
   "source": [
    "\n",
    "'ice' in 'Supercalifragilisticexpialidocious'"
   ]
  },
  {
   "cell_type": "markdown",
   "metadata": {},
   "source": [
    "\n",
    "### c. Which of the following words is the longest: Supercalifragilisticexpialidocious, Honorificabilitudinitatibus, or Bababadalgharaghtakamminarronnkonn?\n"
   ]
  },
  {
   "cell_type": "markdown",
   "metadata": {},
   "source": [
    "len(\"Supercalifragilisticexpialidocious\")=34   \n",
    "len(\"Honorificabilitudinitatibus\")=28    \n",
    "len(\"Bababadalgharaghtakamminarronnkonn\")=34\n",
    "\n",
    "both \"Supercalifragilisticexpialidocious\" and \"Bababadalgharaghtakamminarronnkonn\" are having same length as they both have 34 characters"
   ]
  },
  {
   "cell_type": "markdown",
   "metadata": {},
   "source": [
    "### d. Which composer comes first in the dictionary: 'Berlioz', 'Borodin', 'Brian', 'Bartok', 'Bellini', 'Buxtehude', 'Bernstein'. Which one comes last?"
   ]
  },
  {
   "cell_type": "code",
   "execution_count": 1,
   "metadata": {},
   "outputs": [
    {
     "name": "stdout",
     "output_type": "stream",
     "text": [
      "Bartokis first comes in dictionary\n",
      "Buxtehudeis last comes in dictionary\n"
     ]
    }
   ],
   "source": [
    "\n",
    "list1=[ 'Berlioz', 'Borodin', 'Brian', 'Bartok', 'Bellini', 'Buxtehude', 'Bernstein']\n",
    "list1.sort()\n",
    "print(list1[0] +\"is first comes in dictionary\")\n",
    "print(list1[-1] +\"is last comes in dictionary\")\n",
    "\n"
   ]
  },
  {
   "cell_type": "markdown",
   "metadata": {},
   "source": [
    "# Question 3"
   ]
  },
  {
   "cell_type": "markdown",
   "metadata": {},
   "source": [
    "### a. Write a function inside(x,y,x1,y1,x2,y2) that returns True or False depending on whether the point (x,y) lies in the rectangle with lower left corner (x1,y1) and upper right corner (x2,y2).\n",
    "\n",
    "### def inside(x,y,x1,y1,x2,y2)"
   ]
  },
  {
   "cell_type": "code",
   "execution_count": 18,
   "metadata": {},
   "outputs": [],
   "source": [
    "def inside(x,y,x1,y1,x2,y2):\n",
    "    if (x>x1 and y>y1 and x<x2 and y<y2):\n",
    "        return \"True\"\n",
    "    else:\n",
    "        return \"False\""
   ]
  },
  {
   "cell_type": "code",
   "execution_count": 19,
   "metadata": {},
   "outputs": [
    {
     "data": {
      "text/plain": [
       "'True'"
      ]
     },
     "execution_count": 19,
     "metadata": {},
     "output_type": "execute_result"
    }
   ],
   "source": [
    "inside(1,1,0,0,2,3)"
   ]
  },
  {
   "cell_type": "code",
   "execution_count": 20,
   "metadata": {},
   "outputs": [
    {
     "data": {
      "text/plain": [
       "'False'"
      ]
     },
     "execution_count": 20,
     "metadata": {},
     "output_type": "execute_result"
    }
   ],
   "source": [
    "inside(-1,-1,0,0,2,3)"
   ]
  },
  {
   "cell_type": "markdown",
   "metadata": {},
   "source": [
    "### b. Use function inside() from part a. to write an expression that tests whether the point (1,1) lies in both of the following rectangles: one with lower left corner (0.3, 0.5) and upper right corner (1.1, 0.7) and the other with lower left corner (0.5, 0.2) and upper right corner (1.1, 2)."
   ]
  },
  {
   "cell_type": "code",
   "execution_count": 24,
   "metadata": {},
   "outputs": [
    {
     "name": "stdout",
     "output_type": "stream",
     "text": [
      "1,1 is not inside both rectangles\n"
     ]
    }
   ],
   "source": [
    "if (inside(1,1,0.3,0.5,1.1,0.7))==(inside(1,1,0.5,0.2,1.1,2)):\n",
    "    print(\"1,1 is inside both rectangles\")\n",
    "else:\n",
    "    print(\"1,1 is not inside both rectangles\")"
   ]
  },
  {
   "cell_type": "markdown",
   "metadata": {},
   "source": [
    "# Question 4\n",
    "### You can turn a word into pig-Latin using the following two rules (simplified):\n",
    "### • If the word starts with a consonant, move that letter to the end and append 'ay'. For example, 'happy' becomes 'appyhay' and 'pencil' becomes 'encilpay'.\n",
    "### • If the word starts with a vowel, simply append 'way' to the end of the word. For example, 'enter' becomes 'enterway' and 'other' becomes 'otherway' . For our purposes, there are 5 vowels: a, e, i, o, u (so we count y as a consonant).\n",
    "### Write a function pig() that takes a word (i.e., a string) as input and returns its pig-Latin form. Your function should still work if the input word contains upper case characters. Your output should always be lower case however.\n",
    ">>> pig('happy')        \n",
    "'appyhay'             \n",
    ">>> pig('Enter')        \n",
    "'enterway'"
   ]
  },
  {
   "cell_type": "code",
   "execution_count": 5,
   "metadata": {},
   "outputs": [],
   "source": [
    "def pig(a):\n",
    "    word=a.lower()\n",
    "    if (word[0]=='a'or word[0]=='e'or word[0]=='i'or word[0]=='o'or word[0]=='u'): #check whether any word that entered starts with vawels or not\n",
    "        words=word[0]+word+\"way\"                                                                         # if yes then add \"way\" and also add the first letter at the starting \n",
    "    else:\n",
    "        words=(word+word[0])+\"ay\"                                                                         # if no then add first letter at last and add \"ay\"\n",
    "    return words[1:]                                                                                                #return the word without first letter\n",
    "  "
   ]
  },
  {
   "cell_type": "code",
   "execution_count": 9,
   "metadata": {},
   "outputs": [
    {
     "data": {
      "text/plain": [
       "'enterway'"
      ]
     },
     "execution_count": 9,
     "metadata": {},
     "output_type": "execute_result"
    }
   ],
   "source": [
    "pig(\"Enter\")"
   ]
  },
  {
   "cell_type": "code",
   "execution_count": 10,
   "metadata": {},
   "outputs": [
    {
     "data": {
      "text/plain": [
       "'appyhay'"
      ]
     },
     "execution_count": 10,
     "metadata": {},
     "output_type": "execute_result"
    }
   ],
   "source": [
    "pig(\"Happy\")"
   ]
  },
  {
   "cell_type": "markdown",
   "metadata": {},
   "source": [
    "# Question 5\n",
    "### File bloodtype1.txt records blood-types of patients (A, B, AB, O or OO) at a clinic. Write a function bldcount() that reads the file with name name and reports (i.e., prints) how many patients there are in each bloodtype.\n",
    ">>> bldcount('bloodtype.txt')                \n",
    "There are 10 patients of blood type A.                \n",
    "There is one patient of blood type B.                 \n",
    "There are 10 patients of blood type AB.                   \n",
    "There are 12 patients of blood type O.                  \n",
    "There are no patients of blood type OO.                     "
   ]
  },
  {
   "cell_type": "code",
   "execution_count": 1,
   "metadata": {},
   "outputs": [],
   "source": [
    "def bldcount(a):\n",
    "    file=open(\"bloodtype1.txt\",'r').read()                 #read file with data\n",
    "    file1=file.split()                                                  # split the words\n",
    "    l=len(file1)                                                        #loading number of words\n",
    "    \n",
    "    countAB=countB=countO=countA=countOO=0      #creating varible\n",
    "    \n",
    "    for i in range(0,l):                                                    #counting words using for loop\n",
    "        if file1[i]==\"AB\":\n",
    "            countAB=countAB+1    \n",
    "        elif file1[i]==\"B\":\n",
    "            countB=countB+1\n",
    "        elif file1[i]==\"O\":\n",
    "            countO=countO+1\n",
    "        elif file1[i]==\"A\":\n",
    "            countA=countA+1\n",
    "        elif file1[i]==\"OO\":\n",
    "            countOO=countOO+1\n",
    "            \n",
    "    if countA==0 or countA==1:                                 #changing one and zero to words\n",
    "        if countA==0:\n",
    "            countA=\"no\"\n",
    "        else:\n",
    "            countA=\"one\"\n",
    "    if countB==0 or countB==1:  \n",
    "        if countB==0:\n",
    "            countB=\"no\"\n",
    "        else:\n",
    "            countB=\"one\"\n",
    "    if countAB==0 or countAB==1:\n",
    "        if countAB==0:\n",
    "            countAB=\"no\"\n",
    "        else:\n",
    "            countAB=\"one\"\n",
    "    if countO==0 or countO==1:\n",
    "        if countO==0:\n",
    "            countO=\"no\"\n",
    "        else:\n",
    "            countO=\"one\"\n",
    "    if countOO==0 or countOO==1:\n",
    "        if countOO==0:\n",
    "            countOO=\"no\"\n",
    "        else:\n",
    "            countOO=\"one\"\n",
    "    \n",
    "    print(\"There are \"+ str(countA) +\" patients of blood type A.\")                     #printing all the data collected\n",
    "    print(\"There is \"+ str(countB) + \" patient of blood type B.\")\n",
    "    print(\"There are \" + str(countAB) + \" patients of blood type AB.\")\n",
    "    print(\"There are \" + str(countO) + \" patients of blood type O.\")\n",
    "    print(\"There are \" + str(countOO) + \" patients of blood type OO.\")\n",
    "    "
   ]
  },
  {
   "cell_type": "code",
   "execution_count": 2,
   "metadata": {},
   "outputs": [
    {
     "name": "stdout",
     "output_type": "stream",
     "text": [
      "There are 15 patients of blood type A.\n",
      "There is one patient of blood type B.\n",
      "There are 13 patients of blood type AB.\n",
      "There are 15 patients of blood type O.\n",
      "There are no patients of blood type OO.\n"
     ]
    }
   ],
   "source": [
    "bldcount('bloodtype.txt')"
   ]
  },
  {
   "cell_type": "markdown",
   "metadata": {},
   "source": [
    "# Question 6\n",
    "\n",
    "### Write a function curconv() that takes as input:\n",
    "### 1. a currency represented using a string (e.g., 'JPY' for the Japanese Yen or 'EUR' for the Euro)\n",
    "### 2. an amount\n",
    "### and then converts and returns the amount in US dollars."
   ]
  },
  {
   "cell_type": "code",
   "execution_count": 5,
   "metadata": {},
   "outputs": [],
   "source": [
    "def curconv(a,b):\n",
    "    file=(open(\"currencies.txt\",'r').read()).split(\"\\n\")                #uploading the values of file in to a varible\n",
    "    for i in range(len(file)):                                                     #according to the number of data it check all the currencies with given\n",
    "        if (file[i].split(\"\\t\"))[0]==a:                                               #if any one sticks then calculate the corresponding value\n",
    "            return(str(float((file[i].split(\"\\t\"))[1])*b))                    # return the value\n",
    "            break                                                                         #break from the loop"
   ]
  },
  {
   "cell_type": "code",
   "execution_count": 6,
   "metadata": {},
   "outputs": [
    {
     "data": {
      "text/plain": [
       "'122.96544'"
      ]
     },
     "execution_count": 6,
     "metadata": {},
     "output_type": "execute_result"
    }
   ],
   "source": [
    "curconv('EUR', 100)"
   ]
  },
  {
   "cell_type": "code",
   "execution_count": 7,
   "metadata": {},
   "outputs": [
    {
     "data": {
      "text/plain": [
       "'1.241401'"
      ]
     },
     "execution_count": 7,
     "metadata": {},
     "output_type": "execute_result"
    }
   ],
   "source": [
    "curconv('JPY', 100)"
   ]
  },
  {
   "cell_type": "markdown",
   "metadata": {},
   "source": [
    "## Question 7\n",
    "### Each of the following will cause an exception (an error). Identify what type of exception each will cause.\n",
    "\n",
    "### A) Trying to add incompatible variables, as in adding 6 + ‘a’.                          \n",
    "ans:   SyntaxError\n",
    "\n",
    "### B) Referring to the 12th item of a list that has only 10 items.                                    \n",
    "ans:   IndexError\n",
    "\n",
    "### C) Using a value that is out of range for a function’s input, such as calling math.sqrt( 1.0).                    \n",
    "ans:  ValueError\n",
    "\n",
    "### D) Using an undeclared variable, such as print(x) when x has not been defined.                     \n",
    "and:  NameError\n",
    "\n",
    "### E) Trying to open a file that does not exist, such as mistyping the file name or looking in the wrong directory.                       \n",
    "ans: IOError"
   ]
  },
  {
   "cell_type": "markdown",
   "metadata": {},
   "source": [
    "# Question 8\n",
    "\n",
    "### Encryption is the process of hiding the meaning of a text by substituting letters in the message with other letters, according to some system. If the process is successful, no one but the intended recipient can understand the encrypted message. Cryptanalysis refers to attempts to undo the encryption, even if some details of the encryption are unknown (for example, if an encrypted message has been intercepted). The first step of cryptanalysis is often to build up a table of letter frequencies in the encrypted text. Assume that the string letters is already defined as 'abcdefghijklmnopqrstuvwxyz'. Write a function called frequencies() that takes a string as its only parameter, and returns a list of integers, showing the number of times each character appears in the text. Your function may ignore any characters that are not in letters.\n",
    ">>> frequencies('The quick red fox got bored and went home.')                      \n",
    "[1, 1, 1, 3, 5, 1, 1, 2, 1, 0, 1, 0, 1, 2, 4, 0, 1, 2, 0, 2, 1, 0, 1, 1, 0, 0]                         \n",
    ">>> frequencies('apple')"
   ]
  },
  {
   "cell_type": "code",
   "execution_count": 11,
   "metadata": {},
   "outputs": [],
   "source": [
    "def frequencies(st):\n",
    "    p=0                                                                                                                             #create a verible having 0 as value\n",
    "    d={'a':0,'b':0,'c':0,'d':0,'e':0,'f':0,'g':0,'h':0,'i':0,'j':0,'k':0,'l':0,'m':0,'n':0,'o':0,'p':0,'q':0,'r':0,'s':0,'t':0,'u':0,'v':0,'w':0,'x':0,'y':0,'z':0}           #creating a dictionary with 0 values whose keys are english alphabets\n",
    "    l=['a','b','c','d','e','f','g','h','i','j','k','l','m','n','o','p','q','r','s','t','u','v','w','x','y','z']                   #creating a list of english alphabets\n",
    "    for i in range(len(l)):                                                                                                  #creating a for loop that check whether the charecter is in the giving string or not\n",
    "        b=st.lower().count(l[i])                                                                                           #counting the english alphabet that repeat\n",
    "        if b>0:                                                                                                                   #if that repeat then add the no of times to dictionary\n",
    "            d[l[p]]+=b\n",
    "        p+=1\n",
    "    return [d['a'],d['b'],d['c'],d['d'],d['e'],d['f'],d['g'],d['h'],d['i'],d['j'],d['k'],d['l'],d['m'],d['n'],d['o'],d['p'],d['q'],d['r'],d['s'],d['t'],d['u'],d['v'],d['w'],d['x'],d['y'],d['z']] #output the values in a list"
   ]
  },
  {
   "cell_type": "code",
   "execution_count": 12,
   "metadata": {},
   "outputs": [
    {
     "data": {
      "text/plain": [
       "[1, 1, 1, 3, 5, 1, 1, 2, 1, 0, 1, 0, 1, 2, 4, 0, 1, 2, 0, 3, 1, 0, 1, 1, 0, 0]"
      ]
     },
     "execution_count": 12,
     "metadata": {},
     "output_type": "execute_result"
    }
   ],
   "source": [
    "frequencies('The quick red fox got bored and went home.')"
   ]
  },
  {
   "cell_type": "code",
   "execution_count": 13,
   "metadata": {},
   "outputs": [
    {
     "data": {
      "text/plain": [
       "[1, 0, 0, 0, 1, 0, 0, 0, 0, 0, 0, 1, 0, 0, 0, 2, 0, 0, 0, 0, 0, 0, 0, 0, 0, 0]"
      ]
     },
     "execution_count": 13,
     "metadata": {},
     "output_type": "execute_result"
    }
   ],
   "source": [
    "frequencies('apple')"
   ]
  },
  {
   "cell_type": "markdown",
   "metadata": {},
   "source": [
    "# Question 9\n",
    "\n",
    "### The Sieve of Erastophenes is an algorithm -- known to ancient Greeks -- that finds all prime numbers up to a given number n. It does this by first creating a list L from 2 to n and an (initially empty) list primeL. The algorithm then takes the first number in list L (2) and appends it to list primeL, and then removes 2 and all its multiples (4,6,8,10,12, ...) from L. The algorithm then takes the new first number in L (3) and appends it to list primeL, and then removes from L 3 and all its remaining multiples (9,15,21,...). So, in every iteration, the first number of list L is appended to list primeL and then it and its multiples are removed from list L. The iterations stop when list L becomes empty. Write a function sieve() that takes as input a positive integer n, implements the above algorithm, and returns a list of all prime numbers up to n.\n"
   ]
  },
  {
   "cell_type": "code",
   "execution_count": 14,
   "metadata": {},
   "outputs": [],
   "source": [
    "def sieve(n):                                         # define a function\n",
    "    l = []\n",
    "    primeL=[]                                          # initializing 2 empty lists\n",
    "    for i in range(2, n+1):                       #taking numbers from 2 to n as input\n",
    "        if i not in l:                                    # if i is not in l then add it to primeL\n",
    "            primeL.append(i)                      #adding the prime numbers to a list\n",
    "            for j in range(i*i, n+1, i):          #extracting the multiples\n",
    "                l.append(j)\n",
    "    return primeL                                    # output the end result"
   ]
  },
  {
   "cell_type": "code",
   "execution_count": 15,
   "metadata": {},
   "outputs": [
    {
     "data": {
      "text/plain": [
       "[2, 3, 5, 7, 11, 13, 17, 19, 23, 29, 31, 37, 41, 43, 47, 53]"
      ]
     },
     "execution_count": 15,
     "metadata": {},
     "output_type": "execute_result"
    }
   ],
   "source": [
    "sieve(56)"
   ]
  },
  {
   "cell_type": "code",
   "execution_count": 17,
   "metadata": {},
   "outputs": [
    {
     "data": {
      "text/plain": [
       "[2, 3, 5, 7, 11, 13, 17, 19, 23, 29, 31]"
      ]
     },
     "execution_count": 17,
     "metadata": {},
     "output_type": "execute_result"
    }
   ],
   "source": [
    "sieve(32)"
   ]
  },
  {
   "cell_type": "markdown",
   "metadata": {},
   "source": [
    "# Question 10\n",
    "\n",
    "### Implement function triangleArea(a,b,c) that takes as input the lengths of the 3 sides of a triangle and returns the area of the triangle. By Heron's formula, the areaof a triangle with side lengths a, b, and c is root of(s(s - a)(s -b)(s -c)), where s = (a+b+c) /2.\n",
    ">>> triangleArea(2,2,2)            \n",
    "1.7320508075688772\n"
   ]
  },
  {
   "cell_type": "code",
   "execution_count": 17,
   "metadata": {},
   "outputs": [],
   "source": [
    "import math                                                                                   #importing math\n",
    "def triangleArea(a,b,c):                                                                  #defining function\n",
    "    s=float(float(a)+float(b)+float(c))/2                                             #creating verible s and assigning its value using input variables\n",
    "    return math.sqrt(s*((s-float(a))*(s-float(b))*(s-float(c))))            #returning the value after calculation \n"
   ]
  },
  {
   "cell_type": "code",
   "execution_count": 18,
   "metadata": {},
   "outputs": [
    {
     "data": {
      "text/plain": [
       "1.7320508075688772"
      ]
     },
     "execution_count": 18,
     "metadata": {},
     "output_type": "execute_result"
    }
   ],
   "source": [
    "triangleArea(2,2,2)"
   ]
  },
  {
   "cell_type": "code",
   "execution_count": 19,
   "metadata": {},
   "outputs": [
    {
     "data": {
      "text/plain": [
       "1.9515618744994994"
      ]
     },
     "execution_count": 19,
     "metadata": {},
     "output_type": "execute_result"
    }
   ],
   "source": [
    "triangleArea(2.5,2,2)"
   ]
  }
 ],
 "metadata": {
  "celltoolbar": "Raw Cell Format",
  "kernelspec": {
   "display_name": "Python 3",
   "language": "python",
   "name": "python3"
  },
  "language_info": {
   "codemirror_mode": {
    "name": "ipython",
    "version": 3
   },
   "file_extension": ".py",
   "mimetype": "text/x-python",
   "name": "python",
   "nbconvert_exporter": "python",
   "pygments_lexer": "ipython3",
   "version": "3.6.5"
  }
 },
 "nbformat": 4,
 "nbformat_minor": 2
}
